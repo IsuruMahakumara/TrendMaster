{
 "cells": [
  {
   "cell_type": "code",
   "execution_count": 5,
   "id": "263d485c-2696-4025-b34b-5cc9391f1718",
   "metadata": {},
   "outputs": [],
   "source": [
    "import shutil"
   ]
  },
  {
   "cell_type": "code",
   "execution_count": 9,
   "id": "28bf83c9-cfae-4abd-a014-57af8901d90b",
   "metadata": {
    "scrolled": true
   },
   "outputs": [
    {
     "data": {
      "text/plain": [
       "'/home/jupyter/transfomer_prediction_trainer_GCP.zip'"
      ]
     },
     "execution_count": 9,
     "metadata": {},
     "output_type": "execute_result"
    }
   ],
   "source": [
    "shutil.make_archive('./transfomer_prediction_trainer_GCP', 'zip', './trasnformer_model_GCP')"
   ]
  },
  {
   "cell_type": "code",
   "execution_count": null,
   "id": "53ab1941-461c-48bf-98c4-abdf8a2ca030",
   "metadata": {},
   "outputs": [],
   "source": []
  }
 ],
 "metadata": {
  "environment": {
   "name": "common-cu110.m71",
   "type": "gcloud",
   "uri": "gcr.io/deeplearning-platform-release/base-cu110:m71"
  },
  "kernelspec": {
   "display_name": "Python 3",
   "language": "python",
   "name": "python3"
  },
  "language_info": {
   "codemirror_mode": {
    "name": "ipython",
    "version": 3
   },
   "file_extension": ".py",
   "mimetype": "text/x-python",
   "name": "python",
   "nbconvert_exporter": "python",
   "pygments_lexer": "ipython3",
   "version": "3.7.10"
  }
 },
 "nbformat": 4,
 "nbformat_minor": 5
}
